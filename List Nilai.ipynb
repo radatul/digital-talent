{
 "cells": [
  {
   "cell_type": "markdown",
   "metadata": {},
   "source": [
    "## Latihan 2\n",
    "### Tugas List Nilai\n",
    "\n",
    "Diberikan sekumpulan Nilai Random antara 0 sampai dengan 100 sebanyak 250 nilai. Buatlah program untuk melakukan hal berikut:\n",
    "\n",
    "    Tampilkan Angka Ganjil dari ke 250 nilai tersebut\n",
    "    Tampilkan berapa banyak yang mendapatkan nilai lebih dari 70\n",
    "    Tampilkan standar deviasi dari sekumpulan nilai tersebut\n",
    "    Tampilkan nilai maksimum dan minimum\n",
    "    Tampilkan modus dari sekumpulan nilai tersebut\n"
   ]
  },
  {
   "cell_type": "code",
   "execution_count": 1,
   "metadata": {},
   "outputs": [
    {
     "name": "stdout",
     "output_type": "stream",
     "text": [
      "[5, 12, 77, 59, 90, 27, 93, 31, 55, 16, 43, 71, 44, 60, 14, 82, 1, 96, 62, 60, 31, 27, 33, 16, 94, 24, 75, 46, 54, 13, 69, 93, 42, 77, 55, 11, 12, 1, 69, 62, 24, 55, 75, 42, 73, 56, 74, 19, 79, 61, 81, 96, 37, 92, 76, 91, 53, 40, 63, 53, 10, 26, 69, 86, 85, 60, 12, 91, 62, 23, 51, 3, 11, 39, 89, 1, 46, 60, 30, 21, 46, 43, 4, 51, 64, 76, 44, 96, 25, 14, 59, 95, 5, 94, 66, 8, 69, 66, 3, 30, 47, 49, 75, 81, 13, 4, 1, 19, 58, 96, 73, 93, 39, 28, 87, 90, 38, 48, 16, 8, 3, 48, 73, 91, 89, 47, 20, 30, 74, 3, 46, 84, 46, 84, 45, 59, 30, 82, 2, 97, 3, 44, 67, 74, 75, 60, 45, 60, 91, 2, 85, 83, 93, 78, 28, 54, 2, 3, 64, 54, 37, 36, 43, 83, 43, 56, 66, 21, 39, 50, 14, 50, 90, 32, 60, 95, 16, 87, 58, 93, 23, 27, 42, 43, 86, 23, 96, 17, 51, 10, 28, 52, 63, 50, 38, 43, 17, 31, 63, 34, 67, 83, 39, 29, 80, 42, 96, 43, 21, 16, 77, 72, 61, 9, 40, 21, 75, 36, 51, 44, 76, 9, 51, 91, 65, 60, 66, 50, 18, 91, 12, 93, 60, 97, 96, 36, 99, 81, 65, 46, 14, 49, 62, 34, 20, 59, 60, 75, 86, 85]\n"
     ]
    }
   ],
   "source": [
    "import random\n",
    "\n",
    "# GENERATE RANDOM\n",
    "nilaiTugas = []\n",
    "for i in range(250):\n",
    "    nilaiTugas.append(random.randrange(1,100,1))\n",
    "\n",
    "print(nilaiTugas)\n",
    "\n",
    "# TAMPILKAN:\n",
    "# ganjil\n",
    "# nilai > 70\n",
    "# standar deviasi\n",
    "# maksimum\n",
    "# minimum\n",
    "# modus"
   ]
  },
  {
   "cell_type": "markdown",
   "metadata": {},
   "source": [
    "### Ganjil"
   ]
  },
  {
   "cell_type": "code",
   "execution_count": 43,
   "metadata": {},
   "outputs": [
    {
     "name": "stdout",
     "output_type": "stream",
     "text": [
      "\n",
      "Nilai Ganjil : [1, 1, 1, 1, 3, 3, 3, 3, 3, 3, 5, 5, 9, 9, 11, 11, 13, 13, 17, 17, 19, 19, 21, 21, 21, 21, 23, 23, 23, 25, 27, 27, 27, 29, 31, 31, 31, 33, 37, 37, 39, 39, 39, 39, 43, 43, 43, 43, 43, 43, 43, 45, 45, 47, 47, 49, 49, 51, 51, 51, 51, 51, 53, 53, 55, 55, 55, 59, 59, 59, 59, 61, 61, 63, 63, 63, 65, 65, 67, 67, 69, 69, 69, 69, 71, 73, 73, 73, 75, 75, 75, 75, 75, 75, 77, 77, 77, 79, 81, 81, 81, 83, 83, 83, 85, 85, 85, 87, 87, 89, 89, 91, 91, 91, 91, 91, 91, 93, 93, 93, 93, 93, 93, 95, 95, 97, 97, 99]\n"
     ]
    }
   ],
   "source": [
    "#Ganjil\n",
    "ganjil = []\n",
    "for n in nilaiTugas:\n",
    "    if n%2 == 1:\n",
    "        ganjil.append(n)\n",
    "\n",
    "print(\"Nilai Ganjil :\", sorted(ganjil))"
   ]
  },
  {
   "cell_type": "markdown",
   "metadata": {},
   "source": [
    "### Genap"
   ]
  },
  {
   "cell_type": "code",
   "execution_count": 45,
   "metadata": {},
   "outputs": [
    {
     "name": "stdout",
     "output_type": "stream",
     "text": [
      "Nilai Genap : [2, 2, 2, 4, 4, 8, 8, 10, 10, 12, 12, 12, 12, 14, 14, 14, 14, 16, 16, 16, 16, 16, 18, 20, 20, 24, 24, 26, 28, 28, 28, 30, 30, 30, 30, 32, 34, 34, 36, 36, 36, 38, 38, 40, 40, 42, 42, 42, 42, 44, 44, 44, 44, 46, 46, 46, 46, 46, 46, 48, 48, 50, 50, 50, 50, 52, 54, 54, 54, 56, 56, 58, 58, 60, 60, 60, 60, 60, 60, 60, 60, 60, 60, 62, 62, 62, 62, 64, 64, 66, 66, 66, 66, 72, 74, 74, 74, 76, 76, 76, 78, 80, 82, 82, 84, 84, 86, 86, 86, 90, 90, 90, 92, 94, 94, 96, 96, 96, 96, 96, 96, 96]\n"
     ]
    }
   ],
   "source": [
    "#Genap\n",
    "genap = []\n",
    "for n in nilaiTugas:\n",
    "    if n%2 == 0:\n",
    "        genap.append(n)\n",
    "\n",
    "print(\"Nilai Genap :\", sorted(genap))"
   ]
  },
  {
   "cell_type": "markdown",
   "metadata": {},
   "source": [
    "### Nilai >70"
   ]
  },
  {
   "cell_type": "code",
   "execution_count": 48,
   "metadata": {},
   "outputs": [
    {
     "name": "stdout",
     "output_type": "stream",
     "text": [
      "Nilai lebih dari 70 : [71, 72, 73, 73, 73, 74, 74, 74, 75, 75, 75, 75, 75, 75, 76, 76, 76, 77, 77, 77, 78, 79, 80, 81, 81, 81, 82, 82, 83, 83, 83, 84, 84, 85, 85, 85, 86, 86, 86, 87, 87, 89, 89, 90, 90, 90, 91, 91, 91, 91, 91, 91, 92, 93, 93, 93, 93, 93, 93, 94, 94, 95, 95, 96, 96, 96, 96, 96, 96, 96, 97, 97, 99]\n"
     ]
    }
   ],
   "source": [
    "#nilai >70\n",
    "nilai = []\n",
    "for n in nilaiTugas:\n",
    "    if n > 70:\n",
    "        nilai.append(n)\n",
    "\n",
    "print(\"Nilai lebih dari 70 :\", sorted(nilai))"
   ]
  },
  {
   "cell_type": "markdown",
   "metadata": {},
   "source": [
    "### Standar Deviasi"
   ]
  },
  {
   "cell_type": "code",
   "execution_count": 49,
   "metadata": {},
   "outputs": [
    {
     "name": "stdout",
     "output_type": "stream",
     "text": [
      "Standar Deviasi = 28.16156245665358\n"
     ]
    }
   ],
   "source": [
    "#Standar Deviasi\n",
    "jumlah=0\n",
    "for n in range(len(nilaiTugas)):\n",
    "    jumlah +=nilaiTugas[n]\n",
    "    \n",
    "rata=jumlah/len(nilaiTugas)\n",
    "sigma = 0\n",
    "for n in range(len(nilaiTugas)):\n",
    "    hitung = (nilaiTugas[n]-rata)**2\n",
    "    sigma += hitung\n",
    "pembagianN=sigma/len(nilaiTugas)\n",
    "standarDeviasi=pembagianN ** 0.5\n",
    "\n",
    "print(\"Standar Deviasi =\", standarDeviasi)"
   ]
  },
  {
   "cell_type": "markdown",
   "metadata": {},
   "source": [
    "### Maksimum"
   ]
  },
  {
   "cell_type": "code",
   "execution_count": 55,
   "metadata": {},
   "outputs": [
    {
     "name": "stdout",
     "output_type": "stream",
     "text": [
      "Angka Maksimumm = 99\n"
     ]
    }
   ],
   "source": [
    "#Maksimum\n",
    "maksimum = nilaiTugas[0]\n",
    "for n in nilaiTugas:\n",
    "    if n > maksimum:\n",
    "        maksimum = n\n",
    "        \n",
    "print(\"Angka Maksimum =\", maksimum)"
   ]
  },
  {
   "cell_type": "markdown",
   "metadata": {},
   "source": [
    "### Minimum"
   ]
  },
  {
   "cell_type": "code",
   "execution_count": 64,
   "metadata": {},
   "outputs": [
    {
     "name": "stdout",
     "output_type": "stream",
     "text": [
      "Angka Minimum = 1\n"
     ]
    }
   ],
   "source": [
    "#Minimum\n",
    "minimum = nilaiTugas[0]\n",
    "for n in nilaiTugas:\n",
    "    if n < minimum:\n",
    "        minimum = n\n",
    "        \n",
    "print(\"Angka Minimum =\", minimum)"
   ]
  },
  {
   "cell_type": "markdown",
   "metadata": {},
   "source": [
    "### Modus"
   ]
  },
  {
   "cell_type": "code",
   "execution_count": 90,
   "metadata": {},
   "outputs": [
    {
     "name": "stdout",
     "output_type": "stream",
     "text": [
      "Modus = 60 ,Frekuensi 10\n"
     ]
    }
   ],
   "source": [
    "#Modus\n",
    "dict = {}\n",
    "for n in nilaiTugas:\n",
    "    if n in dict:\n",
    "        dict[n] += 1\n",
    "    else:\n",
    "        dict[n] = 1\n",
    "\n",
    "frek = 0\n",
    "modus = 0\n",
    "for m,f in dict.items():\n",
    "    if f > frek:\n",
    "        frek = f\n",
    "        modus = m\n",
    "print (\"Modus =\", modus,\",Frekuensi\", frek)"
   ]
  },
  {
   "cell_type": "code",
   "execution_count": null,
   "metadata": {},
   "outputs": [],
   "source": []
  }
 ],
 "metadata": {
  "kernelspec": {
   "display_name": "Python 3",
   "language": "python",
   "name": "python3"
  },
  "language_info": {
   "codemirror_mode": {
    "name": "ipython",
    "version": 3
   },
   "file_extension": ".py",
   "mimetype": "text/x-python",
   "name": "python",
   "nbconvert_exporter": "python",
   "pygments_lexer": "ipython3",
   "version": "3.7.0"
  }
 },
 "nbformat": 4,
 "nbformat_minor": 2
}
