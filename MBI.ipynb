{
 "cells": [
  {
   "cell_type": "code",
   "execution_count": 2,
   "metadata": {},
   "outputs": [
    {
     "name": "stdout",
     "output_type": "stream",
     "text": [
      "18.59103674696412\n",
      "Normal(healthy weight)\n"
     ]
    }
   ],
   "source": [
    "height = 159\n",
    "wheight = 47\n",
    "x = height*0.01\n",
    "mbi = wheight/x**2\n",
    "print(mbi)\n",
    "if mbi<15:\n",
    "    print(\"Very severly underweight\")\n",
    "elif mbi>=15 and mbi<16:\n",
    "    print(\"Severely Underweight\")\n",
    "elif mbi>=16 and mbi<18.5:\n",
    "    print(\"Underweight\")\n",
    "elif mbi>=18.5 and mbi<25:\n",
    "    print(\"Normal(healthy weight)\")\n",
    "elif mbi>=25 and mbi<30:\n",
    "    print(\"Overweight\")\n",
    "elif mbi>=30 and mbi<35:\n",
    "    print(\"Moderately Obese\")\n",
    "elif mbi>=35 and mbi<40:\n",
    "    print(\"Severly Obese\")\n",
    "else:\n",
    "    print(\"Very severely Obese\")"
   ]
  },
  {
   "cell_type": "code",
   "execution_count": null,
   "metadata": {},
   "outputs": [],
   "source": []
  },
  {
   "cell_type": "code",
   "execution_count": null,
   "metadata": {},
   "outputs": [],
   "source": []
  }
 ],
 "metadata": {
  "kernelspec": {
   "display_name": "Python 3",
   "language": "python",
   "name": "python3"
  },
  "language_info": {
   "codemirror_mode": {
    "name": "ipython",
    "version": 3
   },
   "file_extension": ".py",
   "mimetype": "text/x-python",
   "name": "python",
   "nbconvert_exporter": "python",
   "pygments_lexer": "ipython3",
   "version": "3.7.0"
  }
 },
 "nbformat": 4,
 "nbformat_minor": 2
}
