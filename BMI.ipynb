{
 "cells": [
  {
   "cell_type": "code",
   "execution_count": 11,
   "metadata": {},
   "outputs": [
    {
     "name": "stdout",
     "output_type": "stream",
     "text": [
      "Height = 159.0\n",
      "Wheight = 47.0\n",
      "BMI = 18.59103674696412\n",
      "Normal(healthy weight)\n"
     ]
    }
   ],
   "source": [
    "height = 159.0\n",
    "wheight = 47.0\n",
    "x = height*0.01\n",
    "bmi = wheight/x**2\n",
    "\n",
    "print (\"Height =\",height)\n",
    "print (\"Wheight =\",wheight)\n",
    "print(\"BMI =\",bmi)\n",
    "if bmi<15:\n",
    "    print(\"Very severly underweight\")\n",
    "elif bmi>=15 and bmi<16:\n",
    "    print(\"Severely Underweight\")\n",
    "elif bmi>=16 and bmi<18.5:\n",
    "    print(\"Underweight\")\n",
    "elif bmi>=18.5 and bmi<25:\n",
    "    print(\"Normal(healthy weight)\")\n",
    "elif bmi>=25 and bmi<30:\n",
    "    print(\"Overweight\")\n",
    "elif bmi>=30 and bmi<35:\n",
    "    print(\"Moderately Obese\")\n",
    "elif bmi>=35 and bmi<40:\n",
    "    print(\"Severly Obese\")\n",
    "else:\n",
    "    print(\"Very severely Obese\")"
   ]
  },
  {
   "cell_type": "code",
   "execution_count": null,
   "metadata": {},
   "outputs": [],
   "source": []
  },
  {
   "cell_type": "code",
   "execution_count": null,
   "metadata": {},
   "outputs": [],
   "source": []
  }
 ],
 "metadata": {
  "kernelspec": {
   "display_name": "Python 3",
   "language": "python",
   "name": "python3"
  },
  "language_info": {
   "codemirror_mode": {
    "name": "ipython",
    "version": 3
   },
   "file_extension": ".py",
   "mimetype": "text/x-python",
   "name": "python",
   "nbconvert_exporter": "python",
   "pygments_lexer": "ipython3",
   "version": "3.7.0"
  }
 },
 "nbformat": 4,
 "nbformat_minor": 2
}
